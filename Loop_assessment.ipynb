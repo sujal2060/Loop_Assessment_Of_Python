{
 "cells": [
  {
   "cell_type": "code",
   "execution_count": 5,
   "id": "00c97a53-0ae2-419c-920a-5d8cdad189ed",
   "metadata": {},
   "outputs": [
    {
     "name": "stdout",
     "output_type": "stream",
     "text": [
      "*\n",
      "**\n",
      "***\n",
      "****\n",
      "*****\n"
     ]
    }
   ],
   "source": [
    "# 1. Pattern Printing: Write a Python program that prints the following\n",
    "# pattern using a nested for loop:\n",
    "# *\n",
    "# **\n",
    "# ***\n",
    "# ****\n",
    "# *****\n",
    "\n",
    "#Created by SUJAL DEVKOTA\n",
    "\n",
    "rows = 5\n",
    "\n",
    "\n",
    "for i in range(1, rows + 1):\n",
    "    \n",
    "    for j in range(1, i + 1):\n",
    "        print('*', end='')\n",
    "    print()  "
   ]
  },
  {
   "cell_type": "code",
   "execution_count": 14,
   "id": "0cbb3aca-a74b-49ea-ba74-bc069dd135bd",
   "metadata": {},
   "outputs": [
    {
     "name": "stdin",
     "output_type": "stream",
     "text": [
      "Enter a number 8\n"
     ]
    },
    {
     "name": "stdout",
     "output_type": "stream",
     "text": [
      "Not a prime number\n"
     ]
    }
   ],
   "source": [
    "# 2. Prime Number Checker: Write a Python program that takes a number\n",
    "# as input and determines whether it is a prime number or not.\n",
    "\n",
    "#CREATED BY SUJAL DEVKOTA\n",
    "\n",
    "num=int(input(\"Enter a number\"));\n",
    "if num<=1:\n",
    "    print(\"Not a prime number\")\n",
    "    exit()\n",
    "for i in range(2,num-1):\n",
    "    if(num%i==0):\n",
    "        print(\"Not a prime number\");\n",
    "        break;\n",
    "    else:\n",
    "        print(\"Prime number\");\n",
    "        break;\n",
    "        "
   ]
  },
  {
   "cell_type": "code",
   "execution_count": 18,
   "id": "c0c1a637-7a3b-4b3e-a610-dd201802adfa",
   "metadata": {},
   "outputs": [
    {
     "name": "stdin",
     "output_type": "stream",
     "text": [
      "Enter nth term 3\n"
     ]
    },
    {
     "name": "stdout",
     "output_type": "stream",
     "text": [
      "0\n",
      "1\n",
      "1\n",
      "2\n"
     ]
    }
   ],
   "source": [
    "# Fibonacci Series: Write a Python program that generates the Fibonacci\n",
    "# series up to a specified number of terms.\n",
    "\n",
    "#Created By SUJAL DEVKOTA\n",
    "\n",
    "a=0\n",
    "b=1\n",
    "n=int(input(\"Enter nth term\"))\n",
    "print(a)\n",
    "print(b)\n",
    "for i in range(1,n):\n",
    "   \n",
    "    c=a+b\n",
    "    a=b\n",
    "    b=c\n",
    "    print(c)"
   ]
  },
  {
   "cell_type": "code",
   "execution_count": null,
   "id": "f94ca2fc-1352-43d1-944a-084c30d79296",
   "metadata": {},
   "outputs": [],
   "source": [
    "# Palindrome Checker: Write a Python program that checks if a given\n",
    "# string is a palindrome.\n",
    "\n",
    "#Created By SUJAL DEVKOTA\n",
    "\n",
    "num=int(input(\"Enter a number to check\")\n",
    "numStr=str(num)\n",
    "revStr=numStr[::-1]\n",
    "if numStr==revStr:\n",
    "    print(num,' is a Palindrome number')\n",
    "else:\n",
    "    print(num, ' is not a Palindrome number')"
   ]
  }
 ],
 "metadata": {
  "kernelspec": {
   "display_name": "Python 3 (ipykernel)",
   "language": "python",
   "name": "python3"
  },
  "language_info": {
   "codemirror_mode": {
    "name": "ipython",
    "version": 3
   },
   "file_extension": ".py",
   "mimetype": "text/x-python",
   "name": "python",
   "nbconvert_exporter": "python",
   "pygments_lexer": "ipython3",
   "version": "3.12.2"
  }
 },
 "nbformat": 4,
 "nbformat_minor": 5
}
